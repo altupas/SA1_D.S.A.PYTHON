{
  "nbformat": 4,
  "nbformat_minor": 0,
  "metadata": {
    "colab": {
      "provenance": []
    },
    "kernelspec": {
      "name": "python3",
      "display_name": "Python 3"
    },
    "language_info": {
      "name": "python"
    }
  },
  "cells": [
    {
      "cell_type": "markdown",
      "source": [
        "Write a Python program that simulates a handheld calculator. Your program should process input from the Python console representing buttons that are “pushed,” and then output the contents of the screen after each operation is performed. Minimally, your calculator should be able to process the basic arithmetic operations and a reset/clear operation."
      ],
      "metadata": {
        "id": "wGnVHaCQSupV"
      }
    },
    {
      "cell_type": "code",
      "execution_count": 2,
      "metadata": {
        "colab": {
          "base_uri": "https://localhost:8080/"
        },
        "id": "Eb-PMQC2PK4K",
        "outputId": "575ea04f-5e85-48be-aae7-0dd43957e869"
      },
      "outputs": [
        {
          "output_type": "stream",
          "name": "stdout",
          "text": [
            "Enter operation (add/subtract/multiply/divide/clear/display/exit): add\n",
            "Enter a number: 5\n",
            "Added 5.0. Screen: 5.0\n",
            "Enter operation (add/subtract/multiply/divide/clear/display/exit): subtract\n",
            "Enter a number: 2\n",
            "Subtracted 2.0. Screen: 3.0\n",
            "Enter operation (add/subtract/multiply/divide/clear/display/exit): multiply\n",
            "Enter a number: 5\n",
            "Multiplied by 5.0. Screen: 15.0\n",
            "Enter operation (add/subtract/multiply/divide/clear/display/exit): divide\n",
            "Enter a number: 3\n",
            "Divided by 3.0. Screen: 5.0\n",
            "Enter operation (add/subtract/multiply/divide/clear/display/exit): display\n",
            "Current screen: 5.0\n",
            "Enter operation (add/subtract/multiply/divide/clear/display/exit): exit\n",
            "Exiting the calculator.\n"
          ]
        }
      ],
      "source": [
        "class Calculator:\n",
        "    def __init__(self):\n",
        "        self.screen = 0\n",
        "\n",
        "    def clear(self):\n",
        "        self.screen = 0\n",
        "        print(\"Screen cleared.\")\n",
        "\n",
        "    def add(self, value):\n",
        "        self.screen += value\n",
        "        print(f\"Added {value}. Screen: {self.screen}\")\n",
        "\n",
        "    def subtract(self, value):\n",
        "        self.screen -= value\n",
        "        print(f\"Subtracted {value}. Screen: {self.screen}\")\n",
        "\n",
        "    def multiply(self, value):\n",
        "        self.screen *= value\n",
        "        print(f\"Multiplied by {value}. Screen: {self.screen}\")\n",
        "\n",
        "    def divide(self, value):\n",
        "        if value == 0:\n",
        "            print(\"Error: Division by zero.\")\n",
        "        else:\n",
        "            self.screen /= value\n",
        "            print(f\"Divided by {value}. Screen: {self.screen}\")\n",
        "\n",
        "    def display(self):\n",
        "        print(f\"Current screen: {self.screen}\")\n",
        "\n",
        "\n",
        "def main():\n",
        "    calc = Calculator()\n",
        "\n",
        "    while True:\n",
        "        operation = input(\"Enter operation (add/subtract/multiply/divide/clear/display/exit): \").strip().lower()\n",
        "\n",
        "        if operation == 'exit':\n",
        "            print(\"Exiting the calculator.\")\n",
        "            break\n",
        "        elif operation == 'clear':\n",
        "            calc.clear()\n",
        "        elif operation == 'display':\n",
        "            calc.display()\n",
        "        else:\n",
        "            try:\n",
        "                value = float(input(\"Enter a number: \"))\n",
        "                if operation == 'add':\n",
        "                    calc.add(value)\n",
        "                elif operation == 'subtract':\n",
        "                    calc.subtract(value)\n",
        "                elif operation == 'multiply':\n",
        "                    calc.multiply(value)\n",
        "                elif operation == 'divide':\n",
        "                    calc.divide(value)\n",
        "                else:\n",
        "                    print(\"Invalid operation.\")\n",
        "            except ValueError:\n",
        "                print(\"Invalid input. Please enter a number.\")\n",
        "\n",
        "if __name__ == \"__main__\":\n",
        "    main()"
      ]
    }
  ]
}