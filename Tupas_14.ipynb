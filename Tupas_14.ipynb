{
  "nbformat": 4,
  "nbformat_minor": 0,
  "metadata": {
    "colab": {
      "provenance": []
    },
    "kernelspec": {
      "name": "python3",
      "display_name": "Python 3"
    },
    "language_info": {
      "name": "python"
    }
  },
  "cells": [
    {
      "cell_type": "markdown",
      "source": [
        "Suppose you are given an n-element sequence, S, containing distinct integers that are listed in increasing order. Given a number k, describe a recursive algorithm to find two integers in S that sum to k, if such a pair exists. What is the running time of your algorithm?"
      ],
      "metadata": {
        "id": "y4tyh-Prc4Ft"
      }
    },
    {
      "cell_type": "code",
      "source": [
        "def find_pair(S, left, right, k):\n",
        "    if left >= right:\n",
        "        return None\n",
        "\n",
        "    current_sum = S[left] + S[right]\n",
        "\n",
        "    if current_sum == k:\n",
        "        return (S[left], S[right])\n",
        "    elif current_sum < k:\n",
        "        return find_pair(S, left + 1, right, k)\n",
        "    else:\n",
        "        return find_pair(S, left, right - 1, k)\n",
        "\n",
        "def find_two_sum(S, k):\n",
        "    return find_pair(S, 0, len(S) - 1, k)\n",
        "\n",
        "S = [1, 2, 3, 4, 5, 6, 7]\n",
        "k = 10\n",
        "result = find_two_sum(S, k)\n",
        "if result:\n",
        "    print(f\"Pair found: {result}\")\n",
        "else:\n",
        "    print(\"No pair found.\")"
      ],
      "metadata": {
        "colab": {
          "base_uri": "https://localhost:8080/"
        },
        "id": "1veB2QvVdqim",
        "outputId": "3b9981e6-debb-4cc4-fe08-8c27e5da64f8"
      },
      "execution_count": 4,
      "outputs": [
        {
          "output_type": "stream",
          "name": "stdout",
          "text": [
            "Pair found: (3, 7)\n"
          ]
        }
      ]
    }
  ]
}